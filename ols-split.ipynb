{
 "cells": [
  {
   "cell_type": "code",
   "execution_count": null,
   "metadata": {},
   "outputs": [],
   "source": [
    "from ols_split import *\n",
    "\n",
    "results = pd.DataFrame(columns = ['Error', 'low_pc_high', 'low_effective_address_low', 'low_effective_address_high', 'high_pc_high', 'high_effective_address_low', 'high_effective_address_high'])\n",
    "# files = ['1M-loads-split.csv', \\\n",
    "#          'compute_fp_1-loads-split.csv', 'compute_fp_4-loads-split.csv', 'compute_fp_9-loads-split.csv', 'compute_fp_10-loads-split.csv', \\\n",
    "#          'compute_int_0-loads-split.csv', 'compute_int_4-loads-split.csv', 'compute_int_7-loads-split.csv', 'compute_int_11-loads-split.csv', 'compute_int_15-loads-split.csv',\\\n",
    "#          'srv_10-loads-split.csv']\n",
    "\n",
    "files = ['1M-loads-split.csv']\n",
    "\n",
    "for file in files:\n",
    "    dflo, dfhi, y0_range, y1_range = prepDataFrame(file)\n",
    "\n",
    "    Xlo_tr, Xlo_te, ylo_tr, ylo_te = test_train_split(dflo, int(0.8*len(dflo)))\n",
    "\n",
    "    # Predictor for the lower order bits\n",
    "    sol_lo = solver(Xlo_tr, ylo_tr)\n",
    "    temp = pd.DataFrame(Xlo_te, columns=['x1', 'x2', 'x3'])\n",
    "    df   = pd.DataFrame()\n",
    "    df['y0_prediction'] = (sol_lo[0]*temp[\"x1\"] +  sol_lo[1]*temp[\"x2\"] + sol_lo[2]*temp[\"x3\"])*y0_range\n",
    "    df['y0_truth'] = pd.Series(ylo_te)*y0_range\n",
    "\n",
    "    # Predictor for the higher order bits\n",
    "    Xhi_tr, Xhi_te, yhi_tr, yhi_te = test_train_split(dfhi, int(0.8*len(dfhi)))\n",
    "    sol_hi = solver(Xhi_tr, yhi_tr)\n",
    "    temp = pd.DataFrame(Xhi_te, columns=['x1', 'x2', 'x3'])\n",
    "    df['y1_prediction'] = (sol_hi[0]*temp[\"x1\"] +  sol_hi[1]*temp[\"x2\"] + sol_hi[2]*temp[\"x3\"])*y1_range\n",
    "    df['y1_truth'] = pd.Series(yhi_te)*y1_range\n",
    "\n",
    "    y_range = y1_range*2**32 + y0_range\n",
    "\n",
    "    # Assemble the predictions from the high and low bits\n",
    "    df['truth'] = (df['y1_truth']*2**32      + df['y0_truth'])/y_range\n",
    "    df['pred']  = (df['y1_prediction']*2**32 + df['y0_prediction'])/y_range\n",
    "\n",
    "    rootMSE = sqrt(((df['truth'] - df['pred'])**2).sum())/len(dflo)\n",
    "    \n",
    "    results.loc[file] = [rootMSE] + list(sol_lo) + list(sol_hi)"
   ]
  },
  {
   "cell_type": "code",
   "execution_count": null,
   "metadata": {},
   "outputs": [],
   "source": [
    "results"
   ]
  },
  {
   "cell_type": "code",
   "execution_count": null,
   "metadata": {},
   "outputs": [],
   "source": [
    "results.abs().to_csv('ols-split-RESULTS.csv')"
   ]
  },
  {
   "cell_type": "code",
   "execution_count": null,
   "metadata": {},
   "outputs": [],
   "source": []
  }
 ],
 "metadata": {
  "kernelspec": {
   "display_name": "Python 3",
   "language": "python",
   "name": "python3"
  },
  "language_info": {
   "codemirror_mode": {
    "name": "ipython",
    "version": 3
   },
   "file_extension": ".py",
   "mimetype": "text/x-python",
   "name": "python",
   "nbconvert_exporter": "python",
   "pygments_lexer": "ipython3",
   "version": "3.7.3"
  }
 },
 "nbformat": 4,
 "nbformat_minor": 4
}
