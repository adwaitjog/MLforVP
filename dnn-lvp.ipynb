{
 "cells": [
  {
   "cell_type": "code",
   "execution_count": null,
   "metadata": {},
   "outputs": [],
   "source": [
    "from dnn import *\n",
    "# # already done: '1M-loads.csv', 'compute_fp_1-loads.csv', 'compute_fp_4-loads.csv', \n",
    "# files = ['compute_fp_9-loads.csv', 'compute_fp_10-loads.csv', \\\n",
    "#          'compute_int_0-loads.csv', 'compute_int_4-loads.csv', 'compute_int_7-loads.csv', 'compute_int_11-loads.csv', 'compute_int_15-loads.csv',\\\n",
    "#          'srv_10-loads.csv']\n",
    "\n",
    "files = ['1M-loads.csv']\n",
    "\n",
    "results = pd.DataFrame(columns = ['Error'])\n",
    "\n",
    "for file in files:\n",
    "    print(file)\n",
    "    df = prepDataFrame(file)\n",
    "    num_training_examples = int(0.8*len(df)) # 80% should be for training\n",
    "    X_tr, X_te, y_tr, y_te = test_train_split(df, num_training_examples)\n",
    "    n = y_te.shape[0] # number of testing examples\n",
    "    model = build_model(X_tr.shape, 50, 50, 0.001)\n",
    "    # Train the neural network\n",
    "    model.fit(X_tr, y_tr, epochs=5) # Verbose is not 0 so we can see progress\n",
    "    # Get predictions for the test set\n",
    "    predictions = model.predict(X_te)\n",
    "    rmse = get_rmse(predictions, y_te, n)\n",
    "    results.loc[file] = [rmse]"
   ]
  },
  {
   "cell_type": "code",
   "execution_count": null,
   "metadata": {},
   "outputs": [],
   "source": [
    "results"
   ]
  },
  {
   "cell_type": "code",
   "execution_count": null,
   "metadata": {},
   "outputs": [],
   "source": [
    "results.abs().to_csv('dnn-lvp-RESULTS-theRest.csv')"
   ]
  },
  {
   "cell_type": "code",
   "execution_count": null,
   "metadata": {},
   "outputs": [],
   "source": []
  }
 ],
 "metadata": {
  "kernelspec": {
   "display_name": "Python 3",
   "language": "python",
   "name": "python3"
  },
  "language_info": {
   "codemirror_mode": {
    "name": "ipython",
    "version": 3
   },
   "file_extension": ".py",
   "mimetype": "text/x-python",
   "name": "python",
   "nbconvert_exporter": "python",
   "pygments_lexer": "ipython3",
   "version": "3.7.3"
  }
 },
 "nbformat": 4,
 "nbformat_minor": 4
}
