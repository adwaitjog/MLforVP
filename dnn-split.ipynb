{
 "cells": [
  {
   "cell_type": "code",
   "execution_count": null,
   "metadata": {
    "scrolled": false
   },
   "outputs": [],
   "source": [
    "from dnn_split import *\n",
    "\n",
    "# already ran: '1M-loads-split.csv', 'compute_fp_1-loads-split.csv'\n",
    "\n",
    "# files = ['compute_fp_4-loads-split.csv', 'compute_fp_9-loads-split.csv', 'compute_fp_10-loads-split.csv', \\\n",
    "#          'compute_int_0-loads-split.csv', 'compute_int_4-loads-split.csv', 'compute_int_7-loads-split.csv', 'compute_int_11-loads-split.csv', 'compute_int_15-loads-split.csv',\\\n",
    "#          'srv_10-loads-split.csv']\n",
    "\n",
    "files = ['1M-loads-split.csv']\n",
    "\n",
    "results = pd.DataFrame(columns = ['Error'])\n",
    "\n",
    "for file in files:\n",
    "    print(file)\n",
    "    dflo, dfhi, y0_range, y1_range = prepDataFrame(file)\n",
    "\n",
    "    num_training_examples = int(0.8*len(dflo))\n",
    "    Xlo_tr, Xlo_te, ylo_tr, ylo_te = test_train_split(dflo, num_training_examples)\n",
    "    Xhi_tr, Xhi_te, yhi_tr, yhi_te = test_train_split(dfhi, num_training_examples)\n",
    "\n",
    "    # Build the model for predicting LOW bits\n",
    "    model_lo = build_model(Xlo_tr.shape, 50, 75, 0.001)\n",
    "    # Train the neural network\n",
    "    model_lo.fit(Xlo_tr, ylo_tr, epochs=5) # Verbose is not 0 so we can see progress\n",
    "    # Build the model for predicting HIGH bits\n",
    "    model_hi = build_model(Xhi_tr.shape, 50, 75, 0.001)\n",
    "    # Train the neural network\n",
    "    model_hi.fit(Xhi_tr, yhi_tr, epochs=5) # Verbose is not 0 so we can see progress\n",
    "\n",
    "    # Get predictions for the test set for LOW bits\n",
    "    predictions_lo = model_lo.predict(Xlo_te)\n",
    "    # Get predictions for the test set for HIGH bits\n",
    "    predictions_hi = model_lo.predict(Xhi_te)\n",
    "\n",
    "    pdf = pd.DataFrame(predictions_lo, columns=['pred_lo'])\n",
    "    y_range = y1_range*2**32 + y0_range\n",
    "    pdf['pred_hi'] = pd.Series(predictions_hi[:,0])\n",
    "    pdf['truth'] = (pd.Series(yhi_te)*y1_range*2**32 + pd.Series(ylo_te)*y0_range)/y_range\n",
    "    pdf['pred']  = (pdf['pred_hi']*y1_range*2**32 + pdf['pred_lo']*y0_range)/y_range\n",
    "\n",
    "    # Compute the root mean square error\n",
    "    error = sqrt(((pdf['truth'] - pdf['pred'])**2).sum())/len(pdf)\n",
    "    results.loc[file] = [error]"
   ]
  },
  {
   "cell_type": "code",
   "execution_count": null,
   "metadata": {},
   "outputs": [],
   "source": [
    "results"
   ]
  },
  {
   "cell_type": "code",
   "execution_count": null,
   "metadata": {},
   "outputs": [],
   "source": []
  },
  {
   "cell_type": "code",
   "execution_count": null,
   "metadata": {},
   "outputs": [],
   "source": [
    "results.abs().to_csv('dnn-split-RESULTS-theRest.csv')"
   ]
  },
  {
   "cell_type": "code",
   "execution_count": null,
   "metadata": {},
   "outputs": [],
   "source": []
  }
 ],
 "metadata": {
  "kernelspec": {
   "display_name": "Python 3",
   "language": "python",
   "name": "python3"
  },
  "language_info": {
   "codemirror_mode": {
    "name": "ipython",
    "version": 3
   },
   "file_extension": ".py",
   "mimetype": "text/x-python",
   "name": "python",
   "nbconvert_exporter": "python",
   "pygments_lexer": "ipython3",
   "version": "3.7.3"
  }
 },
 "nbformat": 4,
 "nbformat_minor": 4
}
