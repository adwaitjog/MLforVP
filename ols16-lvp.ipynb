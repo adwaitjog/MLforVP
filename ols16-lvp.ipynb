{
 "cells": [
  {
   "cell_type": "code",
   "execution_count": null,
   "metadata": {},
   "outputs": [],
   "source": [
    "from ols16 import *\n",
    "\n",
    "# files = ['1M-loads.csv', \\\n",
    "#          'compute_fp_1-loads.csv', 'compute_fp_4-loads.csv', 'compute_fp_9-loads.csv', 'compute_fp_10-loads.csv', \\\n",
    "#          'compute_int_0-loads.csv', 'compute_int_4-loads.csv', 'compute_int_7-loads.csv', 'compute_int_11-loads.csv', 'compute_int_15-loads.csv',\\\n",
    "#          'srv_10-loads.csv']\n",
    "\n",
    "files = ['1M-loads.csv']\n",
    "results = pd.DataFrame(columns = ['Error', 'pc', 'effective_address',] + [str(-(i+1)) for i in range(16)])\n",
    "for file in files:\n",
    "    df = prepDataFrame(file)\n",
    "    num_training_examples = int(0.8*len(df)) # 80% should be for training\n",
    "    X_tr, X_te, y_tr, y_te = test_train_split(df, num_training_examples)\n",
    "    sol = solver(X_tr, y_tr)\n",
    "    error = getError(sol, X_te, y_te)\n",
    "    results.loc[file] = [error] + list(sol)\n",
    "    print('Dataset:         ', file)\n",
    "    print('Error:           ', error)\n",
    "    print('Solution vector: ', sol)"
   ]
  },
  {
   "cell_type": "code",
   "execution_count": null,
   "metadata": {},
   "outputs": [],
   "source": [
    "results.abs()"
   ]
  },
  {
   "cell_type": "code",
   "execution_count": null,
   "metadata": {},
   "outputs": [],
   "source": [
    "#results.abs().to_csv('ols16-lvpRESULTS.csv')"
   ]
  },
  {
   "cell_type": "code",
   "execution_count": null,
   "metadata": {},
   "outputs": [],
   "source": []
  }
 ],
 "metadata": {
  "kernelspec": {
   "display_name": "Python 3",
   "language": "python",
   "name": "python3"
  },
  "language_info": {
   "codemirror_mode": {
    "name": "ipython",
    "version": 3
   },
   "file_extension": ".py",
   "mimetype": "text/x-python",
   "name": "python",
   "nbconvert_exporter": "python",
   "pygments_lexer": "ipython3",
   "version": "3.7.3"
  }
 },
 "nbformat": 4,
 "nbformat_minor": 4
}
